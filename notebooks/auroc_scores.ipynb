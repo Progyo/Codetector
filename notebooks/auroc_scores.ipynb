{
 "cells": [
  {
   "cell_type": "markdown",
   "id": "f9684ca1-c324-43bd-ad90-e74ddeb7063e",
   "metadata": {},
   "source": [
    "# Imports"
   ]
  },
  {
   "cell_type": "code",
   "execution_count": 26,
   "id": "fdb92300-cec9-4145-91e8-83e31dd6cf29",
   "metadata": {},
   "outputs": [],
   "source": [
    "import matplotlib.pyplot as plt\n",
    "import sys\n",
    "import numpy as np\n",
    "\n",
    "#To import modules\n",
    "sys.path.append('../')\n",
    "from notebooks.dataset_helper import DatasetHelper\n",
    "from codetector.src.features.shared.data.models.code_detection_sample_model import CodeDetectionSampleModel"
   ]
  },
  {
   "cell_type": "markdown",
   "id": "b06a73db-63c1-448f-b77f-390b6a63fe4e",
   "metadata": {},
   "source": [
    "# Remove Later"
   ]
  },
  {
   "cell_type": "code",
   "execution_count": 27,
   "id": "ecf5df4e-e533-4f6c-9718-5c70f4614f2a",
   "metadata": {},
   "outputs": [],
   "source": [
    "from codetector.src.features.shared.data.models.dataset.parquet_dataset import ParquetDataset\n",
    "class TestDetectionParquetDataset(ParquetDataset):\n",
    "    def getContentType(self):\n",
    "        return CodeDetectionSampleModel\n",
    "\n",
    "    def preProcess(self):\n",
    "        pass\n",
    "\n",
    "    def getTag(self):\n",
    "        return 'test_detection_parquet'"
   ]
  },
  {
   "cell_type": "markdown",
   "id": "d4be01a4-5e27-4921-ac8a-971e4b557b37",
   "metadata": {},
   "source": [
    "# Main"
   ]
  },
  {
   "cell_type": "code",
   "execution_count": 28,
   "id": "6b4c1df5",
   "metadata": {},
   "outputs": [],
   "source": [
    "def printStats(auroc:dict) -> None:\n",
    "\n",
    "    means = []\n",
    "    stds = []\n",
    "    for detector, values in auroc.items():\n",
    "        temp = list(values.values())\n",
    "        mean = np.mean(temp)\n",
    "        std = np.std(temp)\n",
    "\n",
    "        means.append(mean)\n",
    "        stds.append(std)\n",
    "\n",
    "        print(f'{detector}: {mean} +- {std}, Min: {np.min(temp)} Max: {np.max(temp)}')\n",
    "\n",
    "    print(f'Average AUROC and standard deviation across methods: {np.mean(means)} {np.mean(stds)}')"
   ]
  },
  {
   "cell_type": "code",
   "execution_count": 3,
   "id": "cea1327c-0c92-4f11-88c0-0ea6fc9485be",
   "metadata": {},
   "outputs": [
    {
     "name": "stdout",
     "output_type": "stream",
     "text": [
      "Loaded dataset\n",
      "Converted to dataframe\n"
     ]
    }
   ],
   "source": [
    "parq = TestDetectionParquetDataset('../data/detection_parquet')\n",
    "parq.loadDataset()\n",
    "\n",
    "print('Loaded dataset')\n",
    "\n",
    "df = parq.toDataframe()\n",
    "\n",
    "\n",
    "print('Converted to dataframe')\n",
    "\n",
    "helper = DatasetHelper()"
   ]
  },
  {
   "cell_type": "code",
   "execution_count": null,
   "id": "a7530510-b0d4-4918-bd64-3fb1d67b9429",
   "metadata": {
    "scrolled": true
   },
   "outputs": [],
   "source": [
    "filtered = df.loc[df['Dataset']=='stackoverflow-post']\n",
    "auroc = helper.calculateAUROCScores(parq,df=filtered, flipList=['binoculars', 'detectcodegpt', 'rank'],loadingBar=True)\n",
    "print(auroc)"
   ]
  },
  {
   "cell_type": "code",
   "execution_count": 5,
   "id": "fff02f00-6a31-4e52-97aa-303dacfd9d5c",
   "metadata": {},
   "outputs": [
    {
     "name": "stderr",
     "output_type": "stream",
     "text": [
      "Calculating AUROC: 100%|█████████████████████████████████████████████████████████████████████████████████████████████| 13464/13464 [00:00<00:00, 27553.06it/s]"
     ]
    },
    {
     "name": "stdout",
     "output_type": "stream",
     "text": [
      "{'fastdetectgpt': {'codellama-instruct-7b': 0.7135082819386059}, 'binoculars': {'codellama-instruct-7b': 0.7099422980989512}, 'loglikelihood': {'codellama-instruct-7b': 0.5680777577600478}, 'entropy': {'codellama-instruct-7b': 0.5160253049526405}, 'rank': {'codellama-instruct-7b': 0.3899835092033897}}\n"
     ]
    },
    {
     "name": "stderr",
     "output_type": "stream",
     "text": [
      "\n"
     ]
    }
   ],
   "source": [
    "filtered = df.loc[df['Dataset']=='hf_apps']\n",
    "auroc = helper.calculateAUROCScores(parq,df=filtered, flipList=['binoculars', 'detectcodegpt', 'rank'],\n",
    "                                    loadingBar=True,\n",
    "                                    sameGeneratorOnly=False,\n",
    "                                    generatorOverride='codegeex2-6b',\n",
    "                                    baseModelOverride='codellama-instruct-7b')\n",
    "print(auroc)"
   ]
  },
  {
   "cell_type": "code",
   "execution_count": null,
   "id": "ef1bfd2d-586b-4b71-bfc4-b5667e1c2186",
   "metadata": {},
   "outputs": [],
   "source": [
    "generators = ['codellama-13b',\n",
    "              'codellama-instruct-13b',\n",
    "              'llama3-8b',\n",
    "              'llama3-instruct-8b',\n",
    "              'codellama-7b',\n",
    "              'codellama-instruct-7b',\n",
    "              'codegen2_5-7b',\n",
    "              'codegeex2-6b',\n",
    "              'starcoder2-7b',\n",
    "              'codegemma-instruct-7b',\n",
    "              'wavecoderultra-7b',\n",
    "              'incoder-6b',\n",
    "              'phi3mini4k-instruct-4b',\n",
    "              'starcoder2-3b',\n",
    "              'phi-1b',\n",
    "              'incoder-1b',]\n",
    "baseModels = generators\n",
    "\n",
    "filtered = df.loc[df['Dataset']=='hf_apps']\n",
    "output = []\n",
    "for i,generator in enumerate(generators):\n",
    "    if i != 1:\n",
    "        continue\n",
    "    for baseModel in baseModels:\n",
    "        auroc = helper.calculateAUROCScores(parq,df=filtered, flipList=['binoculars', 'detectcodegpt', 'rank'],\n",
    "                                    loadingBar=True,\n",
    "                                    sameGeneratorOnly=False,\n",
    "                                    generatorOverride=generator,\n",
    "                                    baseModelOverride=baseModel)\n",
    "        output.append(round(auroc['binoculars'][baseModel],2))\n",
    "    "
   ]
  },
  {
   "cell_type": "code",
   "execution_count": 10,
   "id": "992ee7e6-86ce-4d12-b78e-a61986b482b8",
   "metadata": {},
   "outputs": [
    {
     "name": "stdout",
     "output_type": "stream",
     "text": [
      "[0.64, 0.63, 0.6, 0.62, 0.66, 0.67, 0.64, 0.56, 0.56, 0.44, 0.79, 0.42, 0.73, 0.63, 0.57, 0.52]\n"
     ]
    }
   ],
   "source": [
    "print(output)"
   ]
  },
  {
   "cell_type": "markdown",
   "id": "906d4424-97ed-498b-9530-cdc5d3bae6eb",
   "metadata": {},
   "source": [
    "## AUROC White Box"
   ]
  },
  {
   "cell_type": "markdown",
   "id": "7bbfbed8-6c63-4fb3-9435-3b8c47f18605",
   "metadata": {},
   "source": [
    "### All Datasets"
   ]
  },
  {
   "cell_type": "code",
   "execution_count": 29,
   "id": "eef150cf-c42e-4f5c-ae4f-e9a03b7c7e10",
   "metadata": {},
   "outputs": [
    {
     "name": "stderr",
     "output_type": "stream",
     "text": [
      "Calculating AUROC: 100%|██████████████████████████████████████████████████████████████████████████████| 1122323/1122323 [00:18<00:00, 60294.61it/s]\n"
     ]
    }
   ],
   "source": [
    "filtered = df.loc[(((df['TopP']== 0.95) & (df['Temperature'] == 0.97)) | (df['Generator'] == 'human'))]\n",
    "auroc = helper.calculateAUROCScores(parq,df=filtered, flipList=['binoculars', 'detectcodegpt','rank'],loadingBar=True)"
   ]
  },
  {
   "cell_type": "code",
   "execution_count": 30,
   "id": "ad9607dc-246e-4962-bca8-7ae8d8f77b49",
   "metadata": {},
   "outputs": [],
   "source": [
    "auroc = dict(map(lambda x: (x,dict(sorted(auroc[x].items(),key=lambda y:y[1], reverse=True))), auroc.keys()))"
   ]
  },
  {
   "cell_type": "code",
   "execution_count": 31,
   "id": "f37f99ac-7e49-4d52-bc28-088eab289e7f",
   "metadata": {},
   "outputs": [
    {
     "name": "stdout",
     "output_type": "stream",
     "text": [
      "fastdetectgpt: 0.8149416187090476 +- 0.1267472088022125, Min: 0.4015237386402016 Max: 0.9646909841350807\n",
      "binoculars: 0.7869890800729684 +- 0.12742250138526426, Min: 0.36438709460052443 Max: 0.9446938413212193\n",
      "loglikelihood: 0.5497239881277864 +- 0.10753198114251802, Min: 0.34492972734469285 Max: 0.7821756408142435\n",
      "entropy: 0.5587295219264783 +- 0.09110828554616163, Min: 0.38081449207008866 Max: 0.7416799210862658\n",
      "rank: 0.5976868264777389 +- 0.09070832140888738, Min: 0.4094455398076249 Max: 0.7447218728633788\n",
      "Average AUROC and standard deviation across methods: 0.661614207062804 0.10870365965700875\n"
     ]
    }
   ],
   "source": [
    "printStats(auroc)"
   ]
  },
  {
   "cell_type": "markdown",
   "id": "01c7a020-758c-4ea0-9289-960f1573c67d",
   "metadata": {},
   "source": [
    "### Pre Datasets"
   ]
  },
  {
   "cell_type": "code",
   "execution_count": 32,
   "id": "51245054",
   "metadata": {},
   "outputs": [
    {
     "name": "stderr",
     "output_type": "stream",
     "text": [
      "Calculating AUROC: 100%|████████████████████████████████████████████████████████████████████████████████| 683436/683436 [00:11<00:00, 61263.41it/s]"
     ]
    },
    {
     "name": "stdout",
     "output_type": "stream",
     "text": [
      "fastdetectgpt: 0.8043746772046345 +- 0.12511037760262153, Min: 0.3996269233287254 Max: 0.9584073032485003\n",
      "binoculars: 0.7660684127831034 +- 0.12671080133704962, Min: 0.36374428305376477 Max: 0.9342702062636588\n",
      "loglikelihood: 0.5279828156351329 +- 0.10460846311271559, Min: 0.3210870042979034 Max: 0.7499620832253249\n",
      "entropy: 0.5715814744129559 +- 0.08631452613741004, Min: 0.4107453828711969 Max: 0.7536758816737834\n",
      "rank: 0.5786455438610026 +- 0.08724042313841575, Min: 0.39487181833464113 Max: 0.7215737283798115\n",
      "Average AUROC and standard deviation across methods: 0.649730584779366 0.1059969182656425\n"
     ]
    },
    {
     "name": "stderr",
     "output_type": "stream",
     "text": [
      "\n"
     ]
    }
   ],
   "source": [
    "datasets = ['stackoverflow-pre','hf_apps','hf_codesearchnet-python','hf_leetcode-pre']\n",
    "filtered = df.loc[(((df['TopP']== 0.95) & (df['Temperature'] == 0.97)) | (df['Generator'] == 'human')) & (df['Dataset'].isin(datasets))]\n",
    "auroc = helper.calculateAUROCScores(parq,df=filtered, flipList=['binoculars', 'detectcodegpt','rank'],loadingBar=True)\n",
    "auroc = dict(map(lambda x: (x,dict(sorted(auroc[x].items(),key=lambda y:y[1], reverse=True))), auroc.keys()))\n",
    "printStats(auroc)"
   ]
  },
  {
   "cell_type": "markdown",
   "id": "a1a7a871",
   "metadata": {},
   "source": [
    "### Post Datasets"
   ]
  },
  {
   "cell_type": "code",
   "execution_count": 33,
   "id": "95eb581e",
   "metadata": {},
   "outputs": [
    {
     "name": "stderr",
     "output_type": "stream",
     "text": [
      "Calculating AUROC: 100%|████████████████████████████████████████████████████████████████████████████████| 438887/438887 [00:07<00:00, 59141.59it/s]"
     ]
    },
    {
     "name": "stdout",
     "output_type": "stream",
     "text": [
      "fastdetectgpt: 0.8337808969502707 +- 0.13213920963977657, Min: 0.40508492208398794 Max: 0.9734039602795174\n",
      "binoculars: 0.821329211030783 +- 0.1321039930984746, Min: 0.3661347713472889 Max: 0.9596680892058089\n",
      "entropy: 0.5407346153503334 +- 0.09673919383294796, Min: 0.3427224527431996 Max: 0.7234083358501964\n",
      "loglikelihood: 0.5829502907827772 +- 0.11309606678370031, Min: 0.3810415498123139 Max: 0.8306051797040169\n",
      "rank: 0.6269465922519999 +- 0.0975895369952871, Min: 0.4322617935544138 Max: 0.7799232993838803\n",
      "Average AUROC and standard deviation across methods: 0.6811483212732329 0.1143336000700373\n"
     ]
    },
    {
     "name": "stderr",
     "output_type": "stream",
     "text": [
      "\n"
     ]
    }
   ],
   "source": [
    "datasets = ['stackoverflow-post','leetcode-post']\n",
    "filtered = df.loc[(((df['TopP']== 0.95) & (df['Temperature'] == 0.97)) | (df['Generator'] == 'human')) & (df['Dataset'].isin(datasets))]\n",
    "auroc = helper.calculateAUROCScores(parq,df=filtered, flipList=['binoculars', 'detectcodegpt','rank'],loadingBar=True)\n",
    "auroc = dict(map(lambda x: (x,dict(sorted(auroc[x].items(),key=lambda y:y[1], reverse=True))), auroc.keys()))\n",
    "printStats(auroc)"
   ]
  },
  {
   "cell_type": "code",
   "execution_count": null,
   "id": "f26797fd-1943-4684-a068-3a3f5ff99570",
   "metadata": {},
   "outputs": [],
   "source": []
  }
 ],
 "metadata": {
  "kernelspec": {
   "display_name": "Python 3 (ipykernel)",
   "language": "python",
   "name": "python3"
  },
  "language_info": {
   "codemirror_mode": {
    "name": "ipython",
    "version": 3
   },
   "file_extension": ".py",
   "mimetype": "text/x-python",
   "name": "python",
   "nbconvert_exporter": "python",
   "pygments_lexer": "ipython3",
   "version": "3.10.15"
  }
 },
 "nbformat": 4,
 "nbformat_minor": 5
}
