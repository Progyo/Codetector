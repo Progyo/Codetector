{
 "cells": [
  {
   "cell_type": "markdown",
   "id": "f9684ca1-c324-43bd-ad90-e74ddeb7063e",
   "metadata": {},
   "source": [
    "# Imports"
   ]
  },
  {
   "cell_type": "code",
   "execution_count": 1,
   "id": "fdb92300-cec9-4145-91e8-83e31dd6cf29",
   "metadata": {},
   "outputs": [],
   "source": [
    "import matplotlib.pyplot as plt\n",
    "import sys\n",
    "\n",
    "#To import modules\n",
    "sys.path.append('../')\n",
    "from notebooks.dataset_helper import DatasetHelper\n",
    "from codetector.src.features.shared.data.models.code_detection_sample_model import CodeDetectionSampleModel"
   ]
  },
  {
   "cell_type": "markdown",
   "id": "b06a73db-63c1-448f-b77f-390b6a63fe4e",
   "metadata": {},
   "source": [
    "# Remove Later"
   ]
  },
  {
   "cell_type": "code",
   "execution_count": 2,
   "id": "ecf5df4e-e533-4f6c-9718-5c70f4614f2a",
   "metadata": {},
   "outputs": [],
   "source": [
    "from codetector.src.features.shared.data.models.dataset.parquet_dataset import ParquetDataset\n",
    "class TestDetectionParquetDataset(ParquetDataset):\n",
    "    def getContentType(self):\n",
    "        return CodeDetectionSampleModel\n",
    "\n",
    "    def preProcess(self):\n",
    "        pass\n",
    "\n",
    "    def getTag(self):\n",
    "        return 'test_detection_parquet'"
   ]
  },
  {
   "cell_type": "markdown",
   "id": "d4be01a4-5e27-4921-ac8a-971e4b557b37",
   "metadata": {},
   "source": [
    "# Main"
   ]
  },
  {
   "cell_type": "code",
   "execution_count": 3,
   "id": "cea1327c-0c92-4f11-88c0-0ea6fc9485be",
   "metadata": {},
   "outputs": [
    {
     "name": "stdout",
     "output_type": "stream",
     "text": [
      "Loaded dataset\n",
      "Converted to dataframe\n"
     ]
    }
   ],
   "source": [
    "parq = TestDetectionParquetDataset('../data/detection_parquet')\n",
    "parq.loadDataset()\n",
    "\n",
    "print('Loaded dataset')\n",
    "\n",
    "df = parq.toDataframe()\n",
    "\n",
    "\n",
    "print('Converted to dataframe')\n",
    "\n",
    "helper = DatasetHelper()"
   ]
  },
  {
   "cell_type": "code",
   "execution_count": 5,
   "id": "09b81f2f-3fab-44f8-916d-33e236f342f2",
   "metadata": {},
   "outputs": [
    {
     "data": {
      "text/plain": [
       "12294388"
      ]
     },
     "execution_count": 5,
     "metadata": {},
     "output_type": "execute_result"
    }
   ],
   "source": [
    "parq.getCount()"
   ]
  },
  {
   "cell_type": "code",
   "execution_count": 6,
   "id": "a6e69e7c-08d5-45b5-8545-b2aba69095ef",
   "metadata": {},
   "outputs": [
    {
     "data": {
      "text/plain": [
       "PromptHash        12294388\n",
       "CodeSampleHash    12294388\n",
       "Language          12294388\n",
       "Value             12294388\n",
       "MaxLength                0\n",
       "Detector          12294388\n",
       "Generator         12294388\n",
       "BaseModel         12294388\n",
       "SecondaryModel    12294388\n",
       "Code              12294388\n",
       "TopK                     0\n",
       "TopP              11719081\n",
       "Temperature       11719081\n",
       "Date              12294388\n",
       "Dataset           12294388\n",
       "dtype: int64"
      ]
     },
     "execution_count": 6,
     "metadata": {},
     "output_type": "execute_result"
    }
   ],
   "source": [
    "df.count()"
   ]
  },
  {
   "cell_type": "code",
   "execution_count": null,
   "id": "a702bc7a-7561-4b72-b3cc-50673d16b1ab",
   "metadata": {},
   "outputs": [],
   "source": []
  }
 ],
 "metadata": {
  "kernelspec": {
   "display_name": "Python 3 (ipykernel)",
   "language": "python",
   "name": "python3"
  },
  "language_info": {
   "codemirror_mode": {
    "name": "ipython",
    "version": 3
   },
   "file_extension": ".py",
   "mimetype": "text/x-python",
   "name": "python",
   "nbconvert_exporter": "python",
   "pygments_lexer": "ipython3",
   "version": "3.10.15"
  }
 },
 "nbformat": 4,
 "nbformat_minor": 5
}
