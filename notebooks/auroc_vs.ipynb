{
 "cells": [
  {
   "cell_type": "markdown",
   "id": "f9684ca1-c324-43bd-ad90-e74ddeb7063e",
   "metadata": {},
   "source": [
    "# Imports"
   ]
  },
  {
   "cell_type": "code",
   "execution_count": 41,
   "id": "fdb92300-cec9-4145-91e8-83e31dd6cf29",
   "metadata": {},
   "outputs": [],
   "source": [
    "import matplotlib.pyplot as plt\n",
    "from matplotlib.figure import figaspect\n",
    "import sys\n",
    "import datetime\n",
    "import time\n",
    "import numpy as np\n",
    "from typing import Any\n",
    "\n",
    "#To import modules\n",
    "sys.path.append('../')\n",
    "from notebooks.dataset_helper import DatasetHelper\n",
    "from codetector.src.features.shared.data.models.code_detection_sample_model import CodeDetectionSampleModel"
   ]
  },
  {
   "cell_type": "markdown",
   "id": "b06a73db-63c1-448f-b77f-390b6a63fe4e",
   "metadata": {},
   "source": [
    "# Remove Later"
   ]
  },
  {
   "cell_type": "code",
   "execution_count": 2,
   "id": "ecf5df4e-e533-4f6c-9718-5c70f4614f2a",
   "metadata": {},
   "outputs": [],
   "source": [
    "from codetector.src.features.shared.data.models.dataset.parquet_dataset import ParquetDataset\n",
    "class TestDetectionParquetDataset(ParquetDataset):\n",
    "    def getContentType(self):\n",
    "        return CodeDetectionSampleModel\n",
    "\n",
    "    def preProcess(self):\n",
    "        pass\n",
    "\n",
    "    def getTag(self):\n",
    "        return 'test_detection_parquet'"
   ]
  },
  {
   "cell_type": "markdown",
   "id": "d4be01a4-5e27-4921-ac8a-971e4b557b37",
   "metadata": {},
   "source": [
    "# Main"
   ]
  },
  {
   "cell_type": "code",
   "execution_count": 3,
   "id": "cea1327c-0c92-4f11-88c0-0ea6fc9485be",
   "metadata": {},
   "outputs": [
    {
     "name": "stdout",
     "output_type": "stream",
     "text": [
      "Loaded dataset\n",
      "Converted to dataframe\n"
     ]
    }
   ],
   "source": [
    "parq = TestDetectionParquetDataset('../data/detection_parquet')\n",
    "parq.loadDataset()\n",
    "\n",
    "print('Loaded dataset')\n",
    "\n",
    "df = parq.toDataframe()\n",
    "\n",
    "\n",
    "print('Converted to dataframe')\n",
    "\n",
    "helper = DatasetHelper()"
   ]
  },
  {
   "cell_type": "code",
   "execution_count": 4,
   "id": "9988a385",
   "metadata": {},
   "outputs": [
    {
     "name": "stderr",
     "output_type": "stream",
     "text": [
      "Calculating AUROC: 100%|█████████████████████████████████████████████████████████████████████████| 438887/438887 [00:07<00:00, 57401.35it/s]"
     ]
    },
    {
     "name": "stdout",
     "output_type": "stream",
     "text": [
      "{'fastdetectgpt': {'codellama-instruct-13b': 0.7303432913655665, 'codellama-7b': 0.902500927254344, 'codellama-13b': 0.8202821208264957, 'codellama-instruct-7b': 0.8229034135681444, 'llama3-8b': 0.830007172937202, 'llama3-instruct-8b': 0.7673870679189828, 'starcoder2-3b': 0.8927916113933511, 'starcoder2-7b': 0.8527887135941847, 'incoder-1b': 0.9734039602795174, 'incoder-6b': 0.8663277042713474, 'phi3mini4k-instruct-4b': 0.7378783654105234, 'wavecoderultra-7b': 0.9273340688437774, 'codegen2_5-7b': 0.926412603305785, 'codegeex2-6b': 0.9216723510686676, 'phi-1b': 0.9633760570824523, 'codegemma-instruct-7b': 0.40508492208398794}, 'binoculars': {'codellama-instruct-13b': 0.7313060962736336, 'codellama-7b': 0.9000593923271274, 'codellama-13b': 0.8088300979204173, 'codellama-instruct-7b': 0.8376945091940659, 'llama3-8b': 0.8190973261010833, 'llama3-instruct-8b': 0.7541281104161043, 'starcoder2-3b': 0.8522316581093597, 'starcoder2-7b': 0.8050357826345669, 'incoder-1b': 0.9596680892058089, 'incoder-6b': 0.8156866050447404, 'phi3mini4k-instruct-4b': 0.8765498607473915, 'wavecoderultra-7b': 0.890729258605472, 'codegen2_5-7b': 0.9014106404958676, 'codegeex2-6b': 0.8805566579850346, 'phi-1b': 0.9421485200845667, 'codegemma-instruct-7b': 0.3661347713472889}, 'entropy': {'codellama-instruct-13b': 0.7234083358501964, 'codellama-7b': 0.5394048947868866, 'codellama-13b': 0.5529695726070555, 'codellama-instruct-7b': 0.6538149879436524, 'llama3-8b': 0.5692037603115447, 'llama3-instruct-8b': 0.3427224527431996, 'starcoder2-3b': 0.5935518210756956, 'starcoder2-7b': 0.5919719008264462, 'incoder-1b': 0.5807967975206612, 'incoder-6b': 0.6065295454545454, 'phi3mini4k-instruct-4b': 0.4891828781643597, 'wavecoderultra-7b': 0.5362857458075905, 'codegen2_5-7b': 0.5879160123966942, 'codegeex2-6b': 0.49451951300177766, 'phi-1b': 0.3601717758985201, 'codegemma-instruct-7b': 0.4293038512165088}, 'loglikelihood': {'codellama-instruct-13b': 0.3810415498123139, 'codellama-7b': 0.5826768365786101, 'codellama-13b': 0.572895887741989, 'codellama-instruct-7b': 0.46991222132915944, 'llama3-8b': 0.5376008123612914, 'llama3-instruct-8b': 0.7962609497464269, 'starcoder2-3b': 0.5132855843565256, 'starcoder2-7b': 0.5150559917355373, 'incoder-1b': 0.612954958677686, 'incoder-6b': 0.5727878099173553, 'phi3mini4k-instruct-4b': 0.6731208172257555, 'wavecoderultra-7b': 0.6260484333627538, 'codegen2_5-7b': 0.5333440082644628, 'codegeex2-6b': 0.6486556906031667, 'phi-1b': 0.8306051797040169, 'codegemma-instruct-7b': 0.460957921107384}, 'rank': {'codellama-instruct-13b': 0.464220132027441, 'codellama-7b': 0.35004258133862504, 'codellama-13b': 0.3255147577001202, 'codellama-instruct-7b': 0.380316003215026, 'llama3-8b': 0.3348352246555839, 'llama3-instruct-8b': 0.2200767006161197, 'starcoder2-3b': 0.4473652279961966, 'starcoder2-7b': 0.45395516528925617, 'incoder-1b': 0.23323935950413222, 'incoder-6b': 0.23158987603305786, 'phi3mini4k-instruct-4b': 0.38140645134472295, 'wavecoderultra-7b': 0.4373859223300971, 'codegen2_5-7b': 0.415664152892562, 'codegeex2-6b': 0.46423560296002314, 'phi-1b': 0.2612691596194503, 'codegemma-instruct-7b': 0.5677382064455863}}\n"
     ]
    },
    {
     "name": "stderr",
     "output_type": "stream",
     "text": [
      "\n"
     ]
    }
   ],
   "source": [
    "datasets = ['stackoverflow-post','leetcode-post'] #,'stackoverflow-pre','hf_apps','hf_codesearchnet-python'\n",
    "filtered = df.loc[(((df['TopP']== 0.95) & (df['Temperature'] == 0.97)) | (df['Generator'] == 'human')) & (df['Dataset'].isin(datasets))]\n",
    "auroc : dict[str,Any] = helper.calculateAUROCScores(parq,df=filtered, flipList=['binoculars', 'detectcodegpt', 'rank'],loadingBar=True)\n",
    "print(auroc)"
   ]
  },
  {
   "cell_type": "code",
   "execution_count": 42,
   "id": "cbf9ce57",
   "metadata": {},
   "outputs": [],
   "source": [
    "\n",
    "\n",
    "\n",
    "def scatterPlot(mapping:dict[str,Any], auroc:dict[str,float], xLabel:str=None, title:str=None, suffix:str='', xLim:tuple=None, yLim:tuple=None, fit:bool=False, **kargs) -> None:\n",
    "    xs:list[Any] = []\n",
    "    ys:list[float] = []\n",
    "\n",
    "    w, h = figaspect(1)\n",
    "    fig = plt.figure(figsize=(w,h))\n",
    "    \n",
    "    for model in auroc:\n",
    "        if model in mapping and mapping[model]:\n",
    "            xs.append(mapping[model])\n",
    "            ys.append(auroc[model])\n",
    "    \n",
    "    if title:\n",
    "        plt.title(title)\n",
    "\n",
    "    if xLim:\n",
    "        plt.ylim(xLim[0],xLim[1])     \n",
    "     \n",
    "    if yLim:\n",
    "        plt.ylim(yLim[0],yLim[1])\n",
    "    plt.scatter(xs,ys,**kargs)\n",
    "\n",
    "    plt.ylabel('AUROC')\n",
    "    \n",
    "    if xLabel:\n",
    "        plt.xlabel(xLabel)\n",
    "    \n",
    "    if fit:\n",
    "        xs = np.array(xs)\n",
    "        a, b = np.polyfit(xs, ys, 1)\n",
    "        plt.plot(xs, xs*a + b, color='red', linestyle='--')\n",
    "        \n",
    "    plt.rcParams['svg.fonttype'] = 'none'\n",
    "    # plt.gca().set_aspect('equal', adjustable='box')\n",
    "    \n",
    "    plt.savefig(f'./figures/auroc_vs/{title}_{suffix}.png')\n",
    "    plt.savefig(f'./figures/auroc_vs/{title}_{suffix}.svg')\n",
    "    plt.close()\n",
    "    # plt.show()"
   ]
  },
  {
   "cell_type": "markdown",
   "id": "64546275",
   "metadata": {},
   "source": [
    "## AUROC vs Training Date"
   ]
  },
  {
   "cell_type": "code",
   "execution_count": 43,
   "id": "a7530510-b0d4-4918-bd64-3fb1d67b9429",
   "metadata": {},
   "outputs": [],
   "source": [
    "\n",
    "\n",
    "trainingDates = {\n",
    "    'codellama-13b':int(time.mktime(datetime.date(2023,7,1).timetuple())),\n",
    "    'codellama-instruct-13b':int(time.mktime(datetime.date(2023,7,1).timetuple())),\n",
    "    'llama3-8b':int(time.mktime(datetime.date(2023,7,1).timetuple())),\n",
    "    'llama3-instruct-8b':int(time.mktime(datetime.date(2023,7,1).timetuple())),\n",
    "    'codellama-7b':int(time.mktime(datetime.date(2023,7,1).timetuple())),\n",
    "    'codellama-instruct-7b':int(time.mktime(datetime.date(2023,7,1).timetuple())),\n",
    "    'codegen2_5-7b':int(time.mktime(datetime.date(2023,7,1).timetuple())),\n",
    "    'codegeex2-6b':int(time.mktime(datetime.date(2023,7,1).timetuple())),\n",
    "    'starcoder2-7b':int(time.mktime(datetime.date(2024,2,1).timetuple())),\n",
    "    'codegemma-instruct-7b':int(time.mktime(datetime.date(2024,4,1).timetuple())),\n",
    "    'wavecoderultra-7b':int(time.mktime(datetime.date(2024,4,1).timetuple())),\n",
    "    'incoder-6b':int(time.mktime(datetime.date(2022,4,1).timetuple())),\n",
    "    'phi3mini4k-instruct-4b':int(time.mktime(datetime.date(2024,4,1).timetuple())),\n",
    "    'starcoder2-3b':int(time.mktime(datetime.date(2024,2,1).timetuple())),\n",
    "    'phi-1b':int(time.mktime(datetime.date(2023,6,1).timetuple())),\n",
    "    'incoder-1b':int(time.mktime(datetime.date(2022,4,1).timetuple())),\n",
    "    'openaio1-mini':int(time.mktime(datetime.date(2023,10,1).timetuple()))\n",
    "}\n",
    "\n",
    "\n",
    "for detector in auroc:\n",
    "    scatterPlot(trainingDates,auroc[detector],xLabel='Training Date',suffix='training_date', yLim=(0,1),fit=True ,title=detector.capitalize(), s=10, c='black')"
   ]
  },
  {
   "cell_type": "markdown",
   "id": "2755c4e3",
   "metadata": {},
   "source": [
    "## AUROC vs HumanEval"
   ]
  },
  {
   "cell_type": "code",
   "execution_count": 44,
   "id": "09b81f2f-3fab-44f8-916d-33e236f342f2",
   "metadata": {},
   "outputs": [],
   "source": [
    "humanEval = {\n",
    "    'codellama-13b': 0.427,\n",
    "    'codellama-instruct-13b': 0.427, #?\n",
    "    'llama3-8b': 0.622,\n",
    "    'llama3-instruct-8b': 0.622, #?\n",
    "    'codellama-7b': 0.348,\n",
    "    'codellama-instruct-7b': 0.348, #?\n",
    "    'codegen2_5-7b': 0.2836,\n",
    "    'codegeex2-6b': 0.359,\n",
    "    'starcoder2-7b': 0.354,\n",
    "    'codegemma-instruct-7b': 0.561,\n",
    "    'wavecoderultra-7b': 0.799,\n",
    "    'incoder-6b': 0.15,\n",
    "    'phi3mini4k-instruct-4b': 0.585,\n",
    "    'starcoder2-3b':0.317,\n",
    "    'phi-1b': 0.45,\n",
    "    'incoder-1b': 0.08,\n",
    "    'openaio1-mini': 0.924 # None\n",
    "}\n",
    "\n",
    "\n",
    "for detector in auroc:\n",
    "    scatterPlot(humanEval,auroc[detector],xLabel='Human Eval',suffix='human_eval',xLim=(0,1),yLim=(0,1),fit=True,title=detector.capitalize(),s=10, c='black')"
   ]
  },
  {
   "cell_type": "markdown",
   "id": "70cfca07",
   "metadata": {},
   "source": [
    "## AUROC vs Model Size"
   ]
  },
  {
   "cell_type": "code",
   "execution_count": 45,
   "id": "fff02f00-6a31-4e52-97aa-303dacfd9d5c",
   "metadata": {},
   "outputs": [],
   "source": [
    "modelSizes = {\n",
    "    'codellama-13b': 13_000_000_000,\n",
    "    'codellama-instruct-13b': 13_000_000_000,\n",
    "    'llama3-8b': 8_000_000_000,\n",
    "    'llama3-instruct-8b': 13_000_000_000,\n",
    "    'codellama-7b': 7_000_000_000,\n",
    "    'codellama-instruct-7b': 7_000_000_000,\n",
    "    'codegen2_5-7b': 7_000_000_000,\n",
    "    'codegeex2-6b': 6_000_000_000,\n",
    "    'starcoder2-7b': 7_000_000_000,\n",
    "    'codegemma-instruct-7b': 7_000_000_000,\n",
    "    'wavecoderultra-7b': 7_000_000_000,\n",
    "    'incoder-6b': 6_000_000_000,\n",
    "    'phi3mini4k-instruct-4b': 4_000_000_000,\n",
    "    'starcoder2-3b':3_000_000_000,\n",
    "    'phi-1b': 1_000_000_000,\n",
    "    'incoder-1b': 1_000_000_000,\n",
    "    'openaio1-mini': 100_000_000_000 # Not sure\n",
    "}\n",
    "\n",
    "\n",
    "for detector in auroc:\n",
    "    scatterPlot(modelSizes,auroc[detector],xLabel='Model Size',suffix='model_size',yLim=(0,1),fit=True,title=detector.capitalize(),s=10, c='black')"
   ]
  },
  {
   "cell_type": "code",
   "execution_count": null,
   "id": "3755eb06-7185-422a-b96b-8a1ab9a8f287",
   "metadata": {},
   "outputs": [],
   "source": []
  },
  {
   "cell_type": "code",
   "execution_count": null,
   "id": "d55fbeab-d023-4400-abc3-cb4f9c9d31ed",
   "metadata": {},
   "outputs": [],
   "source": []
  }
 ],
 "metadata": {
  "kernelspec": {
   "display_name": "Python 3 (ipykernel)",
   "language": "python",
   "name": "python3"
  },
  "language_info": {
   "codemirror_mode": {
    "name": "ipython",
    "version": 3
   },
   "file_extension": ".py",
   "mimetype": "text/x-python",
   "name": "python",
   "nbconvert_exporter": "python",
   "pygments_lexer": "ipython3",
   "version": "3.10.15"
  }
 },
 "nbformat": 4,
 "nbformat_minor": 5
}
