{
 "cells": [
  {
   "cell_type": "markdown",
   "id": "f9684ca1-c324-43bd-ad90-e74ddeb7063e",
   "metadata": {},
   "source": [
    "# Imports"
   ]
  },
  {
   "cell_type": "code",
   "execution_count": 1,
   "id": "fdb92300-cec9-4145-91e8-83e31dd6cf29",
   "metadata": {},
   "outputs": [],
   "source": [
    "import matplotlib.pyplot as plt\n",
    "import sys\n",
    "\n",
    "#To import modules\n",
    "sys.path.append('../')\n",
    "from notebooks.dataset_helper import DatasetHelper\n",
    "from codetector.src.features.shared.data.models.code_detection_sample_model import CodeDetectionSampleModel"
   ]
  },
  {
   "cell_type": "markdown",
   "id": "b06a73db-63c1-448f-b77f-390b6a63fe4e",
   "metadata": {},
   "source": [
    "# Remove Later"
   ]
  },
  {
   "cell_type": "code",
   "execution_count": 2,
   "id": "ecf5df4e-e533-4f6c-9718-5c70f4614f2a",
   "metadata": {},
   "outputs": [],
   "source": [
    "from codetector.src.features.shared.data.models.dataset.parquet_dataset import ParquetDataset\n",
    "class TestDetectionParquetDataset(ParquetDataset):\n",
    "    def getContentType(self):\n",
    "        return CodeDetectionSampleModel\n",
    "\n",
    "    def preProcess(self):\n",
    "        pass\n",
    "\n",
    "    def getTag(self):\n",
    "        return 'test_detection_parquet'"
   ]
  },
  {
   "cell_type": "markdown",
   "id": "d4be01a4-5e27-4921-ac8a-971e4b557b37",
   "metadata": {},
   "source": [
    "# Main"
   ]
  },
  {
   "cell_type": "code",
   "execution_count": 3,
   "id": "cea1327c-0c92-4f11-88c0-0ea6fc9485be",
   "metadata": {},
   "outputs": [
    {
     "name": "stdout",
     "output_type": "stream",
     "text": [
      "Loaded dataset\n",
      "Converted to dataframe\n"
     ]
    }
   ],
   "source": [
    "parq = TestDetectionParquetDataset('../data/detection_parquet')\n",
    "parq.loadDataset()\n",
    "\n",
    "print('Loaded dataset')\n",
    "\n",
    "df = parq.toDataframe()\n",
    "\n",
    "\n",
    "print('Converted to dataframe')\n",
    "\n",
    "helper = DatasetHelper()"
   ]
  },
  {
   "cell_type": "markdown",
   "id": "7b7ae884-b3c0-4204-8dbc-772b0a1e94e4",
   "metadata": {},
   "source": [
    "## All Models"
   ]
  },
  {
   "cell_type": "code",
   "execution_count": null,
   "id": "d0fc27ab-1dc2-4bc5-8da4-8e98f779b283",
   "metadata": {},
   "outputs": [],
   "source": [
    "baseModels = ['codellama-13b',\n",
    "              'codellama-instruct-13b',\n",
    "              'llama3-8b',\n",
    "              'llama3-instruct-8b',\n",
    "              'codellama-7b',\n",
    "              'codellama-instruct-7b',\n",
    "              'codegen2_5-7b',\n",
    "              'codegeex2-6b',\n",
    "              'starcoder2-7b',\n",
    "              'codegemma-instruct-7b',\n",
    "              'wavecoderultra-7b',\n",
    "              'incoder-6b',\n",
    "              'phi3mini4k-instruct-4b',\n",
    "              'starcoder2-3b',\n",
    "              'phi-1b',\n",
    "              'incoder-1b',\n",
    "              ]"
   ]
  },
  {
   "cell_type": "code",
   "execution_count": 4,
   "id": "1682e840-491f-4e17-ad56-ba235da1e838",
   "metadata": {},
   "outputs": [],
   "source": [
    "detectors = ['loglikelihood', 'entropy', 'rank', 'fastdetectgpt', 'binoculars']"
   ]
  },
  {
   "cell_type": "markdown",
   "id": "cc440257-e132-4037-b672-fd7f4108bb50",
   "metadata": {},
   "source": [
    "### All"
   ]
  },
  {
   "cell_type": "code",
   "execution_count": null,
   "id": "a7530510-b0d4-4918-bd64-3fb1d67b9429",
   "metadata": {},
   "outputs": [],
   "source": [
    "\n",
    "datasets = ['stackoverflow-post','stackoverflow-pre','hf_apps','hf_codesearchnet-python','hf_leetcode-pre', 'leetcode-post']\n",
    "\n",
    "for dataset in datasets:\n",
    "    helper.generateHeatmap(parq,# (df['Language']=='python')&\n",
    "                                 df=df.loc[(df['Dataset'] == dataset) & (((df['TopP']== 0.95) & (df['Temperature'] == 0.97)) | (df['Generator'] == 'human'))],\n",
    "                                 flipList=['binoculars', 'detectcodegpt', 'rank'],\n",
    "                                 baseModels=baseModels,\n",
    "                                 generators=baseModels+(['openaio1-mini'] if dataset != 'stackoverflow-pre' else []),\n",
    "                                 detectors=detectors,\n",
    "                                 folderPath='./figures/heatmaps/all/all',\n",
    "                                 suffix=f'_{dataset}'\n",
    "                                 )"
   ]
  },
  {
   "cell_type": "markdown",
   "id": "063a1fd0-c611-4d55-8861-a6f2b9470492",
   "metadata": {},
   "source": [
    "### Languages"
   ]
  },
  {
   "cell_type": "code",
   "execution_count": 7,
   "id": "09b81f2f-3fab-44f8-916d-33e236f342f2",
   "metadata": {},
   "outputs": [
    {
     "name": "stderr",
     "output_type": "stream",
     "text": [
      "Calculating AUROC for heatmaps: 100%|███████████████████████████████████████████████████████████████████████████████████████████████| 272/272 [00:55<00:00,  4.92it/s]\n",
      "Calculating AUROC for heatmaps: 100%|███████████████████████████████████████████████████████████████████████████████████████████████| 272/272 [00:35<00:00,  7.64it/s]\n",
      "Calculating AUROC for heatmaps: 100%|███████████████████████████████████████████████████████████████████████████████████████████████| 272/272 [00:42<00:00,  6.37it/s]\n",
      "Calculating AUROC for heatmaps: 100%|███████████████████████████████████████████████████████████████████████████████████████████████| 272/272 [00:44<00:00,  6.14it/s]\n",
      "Calculating AUROC for heatmaps: 100%|███████████████████████████████████████████████████████████████████████████████████████████████| 256/256 [00:55<00:00,  4.63it/s]\n",
      "Calculating AUROC for heatmaps: 100%|███████████████████████████████████████████████████████████████████████████████████████████████| 256/256 [00:31<00:00,  8.15it/s]\n",
      "Calculating AUROC for heatmaps: 100%|███████████████████████████████████████████████████████████████████████████████████████████████| 256/256 [00:38<00:00,  6.67it/s]\n",
      "Calculating AUROC for heatmaps: 100%|███████████████████████████████████████████████████████████████████████████████████████████████| 256/256 [00:42<00:00,  6.02it/s]\n",
      "Calculating AUROC for heatmaps: 100%|███████████████████████████████████████████████████████████████████████████████████████████████| 272/272 [00:23<00:00, 11.41it/s]\n",
      "Calculating AUROC for heatmaps: 100%|███████████████████████████████████████████████████████████████████████████████████████████████| 272/272 [00:21<00:00, 12.46it/s]\n",
      "Calculating AUROC for heatmaps: 100%|████████████████████████████████████████████████████████████████████████████████████████████| 272/272 [00:00<00:00, 18014.38it/s]\n",
      "Calculating AUROC for heatmaps: 100%|███████████████████████████████████████████████████████████████████████████████████████████████| 272/272 [00:07<00:00, 36.09it/s]\n",
      "Calculating AUROC for heatmaps: 100%|███████████████████████████████████████████████████████████████████████████████████████████████| 272/272 [00:22<00:00, 11.84it/s]\n",
      "Calculating AUROC for heatmaps: 100%|███████████████████████████████████████████████████████████████████████████████████████████████| 272/272 [00:22<00:00, 12.29it/s]\n",
      "Calculating AUROC for heatmaps: 100%|████████████████████████████████████████████████████████████████████████████████████████████| 272/272 [00:00<00:00, 18214.85it/s]\n",
      "Calculating AUROC for heatmaps: 100%|███████████████████████████████████████████████████████████████████████████████████████████████| 272/272 [00:06<00:00, 42.03it/s]\n"
     ]
    }
   ],
   "source": [
    "datasets = ['stackoverflow-post','stackoverflow-pre','hf_leetcode-pre', 'leetcode-post']\n",
    "\n",
    "for dataset in datasets:\n",
    "    for pl in ['java','cpp','csharp','js']:\n",
    "        helper.generateHeatmap(parq,\n",
    "                                 df=df.loc[(df['Dataset'] == dataset) & (((df['TopP']== 0.95) & (df['Temperature'] == 0.97)) | (df['Generator'] == 'human')) & (df['Language'] == pl)],\n",
    "                                 flipList=['binoculars', 'detectcodegpt', 'rank'],\n",
    "                                 baseModels=baseModels,\n",
    "                                 generators=baseModels+(['openaio1-mini'] if dataset != 'stackoverflow-pre' else []),\n",
    "                                 detectors=detectors,\n",
    "                                 folderPath='./figures/heatmaps/all/languages',\n",
    "                                 suffix=f'_{dataset}_{pl}'\n",
    "                                 )"
   ]
  },
  {
   "cell_type": "markdown",
   "id": "aa4ba20e-3dd6-40b8-8d5d-c3db836e7791",
   "metadata": {},
   "source": [
    "### Python Only"
   ]
  },
  {
   "cell_type": "code",
   "execution_count": 8,
   "id": "d0ef97a7-10f8-44b6-9ee4-726db5270562",
   "metadata": {},
   "outputs": [
    {
     "name": "stderr",
     "output_type": "stream",
     "text": [
      "Calculating AUROC for heatmaps: 100%|███████████████████████████████████████████████████████████████████████████████████████████████| 272/272 [07:32<00:00,  1.66s/it]\n"
     ]
    }
   ],
   "source": [
    "datasets = ['stackoverflow-post','stackoverflow-pre','hf_apps','hf_codesearchnet-python','hf_leetcode-pre', 'leetcode-post']\n",
    "helper.generateHeatmap(parq,\n",
    "                         df=df.loc[(df['Language']=='python')&(df['Dataset'].isin(datasets)) & (((df['TopP']== 0.95) & (df['Temperature'] == 0.97)) | (df['Generator'] == 'human'))],\n",
    "                         flipList=['binoculars', 'detectcodegpt', 'rank'],\n",
    "                         baseModels=baseModels,\n",
    "                         generators=baseModels+(['openaio1-mini'] if dataset != 'stackoverflow-pre' else []),\n",
    "                         detectors=detectors,\n",
    "                         folderPath='./figures/heatmaps/all/python_only',\n",
    "                         suffix=f'_{dataset}'\n",
    "                         )"
   ]
  },
  {
   "cell_type": "markdown",
   "id": "0c9c5c8f-d778-4e03-b2b7-f6eac6ba42dc",
   "metadata": {},
   "source": [
    "## Analysis"
   ]
  },
  {
   "cell_type": "code",
   "execution_count": 11,
   "id": "1ad04a1b-a0ca-41e8-ab2e-578db07ce8e1",
   "metadata": {},
   "outputs": [],
   "source": [
    "baseModels = ['codellama-13b',\n",
    "              'codellama-instruct-13b',\n",
    "              'llama3-8b',\n",
    "              'llama3-instruct-8b',\n",
    "              'codellama-7b',\n",
    "              'codellama-instruct-7b',\n",
    "              'codegen2_5-7b',\n",
    "              'codegeex2-6b',\n",
    "              # 'starcoder2-7b',\n",
    "              # 'codegemma-instruct-7b',\n",
    "              # 'wavecoderultra-7b',\n",
    "              'incoder-6b',\n",
    "              # 'phi3mini4k-instruct-4b',\n",
    "              # 'starcoder2-3b',\n",
    "              'phi-1b',\n",
    "              'incoder-1b',\n",
    "              ]"
   ]
  },
  {
   "cell_type": "markdown",
   "id": "65e64500-1c63-44ad-adba-a7ba8c698522",
   "metadata": {},
   "source": [
    "### Languages"
   ]
  },
  {
   "cell_type": "code",
   "execution_count": 6,
   "id": "0a5fa962-06fc-46dd-8615-11185ac15423",
   "metadata": {},
   "outputs": [
    {
     "name": "stderr",
     "output_type": "stream",
     "text": [
      "Calculating AUROC for heatmaps: 100%|█████████████████████████████████████████████████████████████████| 121/121 [00:25<00:00,  4.79it/s]\n",
      "Calculating AUROC for heatmaps: 100%|█████████████████████████████████████████████████████████████████| 121/121 [00:15<00:00,  7.63it/s]\n",
      "Calculating AUROC for heatmaps: 100%|█████████████████████████████████████████████████████████████████| 121/121 [00:18<00:00,  6.40it/s]\n",
      "Calculating AUROC for heatmaps: 100%|█████████████████████████████████████████████████████████████████| 121/121 [00:19<00:00,  6.13it/s]\n",
      "Calculating AUROC for heatmaps: 100%|█████████████████████████████████████████████████████████████████| 121/121 [00:26<00:00,  4.63it/s]\n",
      "Calculating AUROC for heatmaps: 100%|█████████████████████████████████████████████████████████████████| 121/121 [00:14<00:00,  8.21it/s]\n",
      "Calculating AUROC for heatmaps: 100%|█████████████████████████████████████████████████████████████████| 121/121 [00:18<00:00,  6.64it/s]\n",
      "Calculating AUROC for heatmaps: 100%|█████████████████████████████████████████████████████████████████| 121/121 [00:20<00:00,  5.80it/s]\n",
      "Calculating AUROC for heatmaps: 100%|█████████████████████████████████████████████████████████████████| 121/121 [00:10<00:00, 11.02it/s]\n",
      "Calculating AUROC for heatmaps: 100%|█████████████████████████████████████████████████████████████████| 121/121 [00:09<00:00, 12.22it/s]\n",
      "Calculating AUROC for heatmaps: 100%|██████████████████████████████████████████████████████████████| 121/121 [00:00<00:00, 17330.06it/s]\n",
      "Calculating AUROC for heatmaps: 100%|█████████████████████████████████████████████████████████████████| 121/121 [00:03<00:00, 35.26it/s]\n",
      "Calculating AUROC for heatmaps: 100%|█████████████████████████████████████████████████████████████████| 121/121 [00:11<00:00, 10.90it/s]\n",
      "Calculating AUROC for heatmaps: 100%|█████████████████████████████████████████████████████████████████| 121/121 [00:10<00:00, 11.62it/s]\n",
      "Calculating AUROC for heatmaps: 100%|██████████████████████████████████████████████████████████████| 121/121 [00:00<00:00, 17450.43it/s]\n",
      "Calculating AUROC for heatmaps: 100%|█████████████████████████████████████████████████████████████████| 121/121 [00:03<00:00, 40.27it/s]\n"
     ]
    }
   ],
   "source": [
    "datasets = ['stackoverflow-post','stackoverflow-pre','hf_leetcode-pre', 'leetcode-post']\n",
    "\n",
    "for dataset in datasets:\n",
    "    for pl in ['java','cpp','csharp','js']:\n",
    "        helper.generateHeatmap(parq,\n",
    "                                 df=df.loc[(df['Dataset'] == dataset) & (((df['TopP']== 0.95) & (df['Temperature'] == 0.97)) | (df['Generator'] == 'human')) & (df['Language'] == pl)],\n",
    "                                 flipList=['binoculars', 'detectcodegpt', 'rank'],\n",
    "                                 baseModels=baseModels,\n",
    "                                 generators=baseModels,\n",
    "                                 detectors=detectors,\n",
    "                                 folderPath='./figures/heatmaps/analysis/languages',\n",
    "                                 suffix=f'_{dataset}_{pl}'\n",
    "                                 )"
   ]
  },
  {
   "cell_type": "markdown",
   "id": "7da6c213-8ae1-4748-a670-3fac374756dd",
   "metadata": {},
   "source": [
    "### Python Only"
   ]
  },
  {
   "cell_type": "code",
   "execution_count": 7,
   "id": "a9300a6b-dd1c-4a66-be9e-82efecead5ef",
   "metadata": {},
   "outputs": [
    {
     "name": "stderr",
     "output_type": "stream",
     "text": [
      "Calculating AUROC for heatmaps: 100%|█████████████████████████████████████████████████████████████████| 121/121 [00:44<00:00,  2.69it/s]\n",
      "Calculating AUROC for heatmaps: 100%|█████████████████████████████████████████████████████████████████| 121/121 [00:38<00:00,  3.15it/s]\n",
      "Calculating AUROC for heatmaps: 100%|█████████████████████████████████████████████████████████████████| 121/121 [00:52<00:00,  2.29it/s]\n",
      "Calculating AUROC for heatmaps: 100%|█████████████████████████████████████████████████████████████████| 121/121 [00:44<00:00,  2.72it/s]\n",
      "Calculating AUROC for heatmaps: 100%|█████████████████████████████████████████████████████████████████| 121/121 [00:14<00:00,  8.32it/s]\n",
      "Calculating AUROC for heatmaps: 100%|█████████████████████████████████████████████████████████████████| 121/121 [00:15<00:00,  7.96it/s]\n"
     ]
    }
   ],
   "source": [
    "datasets = ['stackoverflow-post','stackoverflow-pre','hf_apps','hf_codesearchnet-python','hf_leetcode-pre', 'leetcode-post']\n",
    "for dataset in datasets:\n",
    "    helper.generateHeatmap(parq,\n",
    "                             df=df.loc[(df['Language']=='python')&(df['Dataset']==dataset) & (((df['TopP']== 0.95) & (df['Temperature'] == 0.97)) | (df['Generator'] == 'human'))],\n",
    "                             flipList=['binoculars', 'detectcodegpt', 'rank'],\n",
    "                             baseModels=baseModels,\n",
    "                             generators=baseModels,\n",
    "                             detectors=detectors,\n",
    "                             folderPath='./figures/heatmaps/analysis/python_only',\n",
    "                             suffix=f'_{dataset}'\n",
    "                             )"
   ]
  },
  {
   "cell_type": "markdown",
   "id": "bc1cefb6",
   "metadata": {},
   "source": [
    "### All"
   ]
  },
  {
   "cell_type": "code",
   "execution_count": 12,
   "id": "75253d65",
   "metadata": {},
   "outputs": [
    {
     "name": "stderr",
     "output_type": "stream",
     "text": [
      "Calculating AUROC for heatmaps: 100%|█████████████████████████████████████████████████████████████████| 121/121 [02:14<00:00,  1.11s/it]\n",
      "Calculating AUROC for heatmaps: 100%|█████████████████████████████████████████████████████████████████| 121/121 [02:04<00:00,  1.03s/it]\n",
      "Calculating AUROC for heatmaps: 100%|█████████████████████████████████████████████████████████████████| 121/121 [00:53<00:00,  2.26it/s]\n",
      "Calculating AUROC for heatmaps: 100%|█████████████████████████████████████████████████████████████████| 121/121 [00:43<00:00,  2.76it/s]\n",
      "Calculating AUROC for heatmaps: 100%|█████████████████████████████████████████████████████████████████| 121/121 [00:38<00:00,  3.15it/s]\n",
      "Calculating AUROC for heatmaps: 100%|█████████████████████████████████████████████████████████████████| 121/121 [00:36<00:00,  3.27it/s]\n"
     ]
    }
   ],
   "source": [
    "datasets = ['stackoverflow-post','stackoverflow-pre','hf_apps','hf_codesearchnet-python','hf_leetcode-pre', 'leetcode-post']\n",
    "for dataset in datasets:\n",
    "    helper.generateHeatmap(parq,\n",
    "        df=df.loc[(df['Dataset'] == dataset) & (((df['TopP']== 0.95) & (df['Temperature'] == 0.97)) | (df['Generator'] == 'human'))],\n",
    "        flipList=['binoculars', 'detectcodegpt', 'rank'],\n",
    "        baseModels=baseModels,\n",
    "        generators=baseModels,\n",
    "        detectors=detectors,\n",
    "        folderPath='./figures/heatmaps/analysis/all',\n",
    "        suffix=f'_{dataset}'\n",
    "        )"
   ]
  },
  {
   "cell_type": "markdown",
   "id": "5e3683dd-ad2b-4b90-b22f-7a556d1c111d",
   "metadata": {},
   "source": [
    "## Different Temperatures and Top-p"
   ]
  },
  {
   "cell_type": "code",
   "execution_count": 9,
   "id": "f2184450-ca60-4b57-8a74-fdeec4ca4c93",
   "metadata": {},
   "outputs": [],
   "source": [
    "baseModels = ['codellama-13b',\n",
    "              'codellama-instruct-13b',\n",
    "              'llama3-8b',\n",
    "              'llama3-instruct-8b',\n",
    "              'codellama-7b',\n",
    "              'codellama-instruct-7b',\n",
    "              'codegen2_5-7b',\n",
    "              'codegeex2-6b',\n",
    "              'starcoder2-7b',\n",
    "              'codegemma-instruct-7b',\n",
    "              'wavecoderultra-7b',\n",
    "              'incoder-6b',\n",
    "              'phi3mini4k-instruct-4b',\n",
    "              'starcoder2-3b',\n",
    "              'phi-1b',\n",
    "              'incoder-1b',\n",
    "              ]"
   ]
  },
  {
   "cell_type": "code",
   "execution_count": null,
   "id": "b7b51663-b788-4f1b-8eda-186040a6abef",
   "metadata": {},
   "outputs": [],
   "source": []
  },
  {
   "cell_type": "code",
   "execution_count": 10,
   "id": "0790a33a-1eb1-449e-ba32-e4daaa37e546",
   "metadata": {},
   "outputs": [
    {
     "name": "stderr",
     "output_type": "stream",
     "text": [
      "Calculating AUROC for heatmaps: 100%|█████████████████████████████████████████████████████████████████| 256/256 [01:40<00:00,  2.54it/s]\n",
      "Calculating AUROC for heatmaps: 100%|█████████████████████████████████████████████████████████████████| 256/256 [01:34<00:00,  2.71it/s]\n",
      "Calculating AUROC for heatmaps: 100%|█████████████████████████████████████████████████████████████████| 256/256 [01:31<00:00,  2.80it/s]\n",
      "Calculating AUROC for heatmaps: 100%|█████████████████████████████████████████████████████████████████| 256/256 [01:36<00:00,  2.64it/s]\n"
     ]
    }
   ],
   "source": [
    "for t in [0.2, 0.97]:\n",
    "    for p in [0.5,0.95]:\n",
    "        helper.generateHeatmap(parq,\n",
    "                                 df=df.loc[(df['Dataset']=='hf_codesearchnet-python') & (((df['TopP']== p) & (df['Temperature'] == t)) | (df['Generator'] == 'human'))],\n",
    "                                 flipList=['binoculars', 'detectcodegpt', 'rank'],\n",
    "                                 baseModels=baseModels,\n",
    "                                 generators=baseModels,\n",
    "                                 detectors=detectors,\n",
    "                                 folderPath='./figures/heatmaps/diff_temp_top_p',\n",
    "                                 suffix=f'_{dataset}_{t}_{p}'\n",
    "                                 )"
   ]
  },
  {
   "cell_type": "code",
   "execution_count": null,
   "id": "3d46e5e8-2dad-4c24-a385-3789c1650efd",
   "metadata": {},
   "outputs": [],
   "source": []
  }
 ],
 "metadata": {
  "kernelspec": {
   "display_name": "Python 3 (ipykernel)",
   "language": "python",
   "name": "python3"
  },
  "language_info": {
   "codemirror_mode": {
    "name": "ipython",
    "version": 3
   },
   "file_extension": ".py",
   "mimetype": "text/x-python",
   "name": "python",
   "nbconvert_exporter": "python",
   "pygments_lexer": "ipython3",
   "version": "3.10.15"
  }
 },
 "nbformat": 4,
 "nbformat_minor": 5
}
